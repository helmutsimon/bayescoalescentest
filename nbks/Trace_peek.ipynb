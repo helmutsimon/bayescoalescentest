{
 "cells": [
  {
   "cell_type": "markdown",
   "id": "b5b73f7a",
   "metadata": {},
   "source": [
    "## Trace peek\n",
    "\n",
    "A simple utility to inspect the traceplot for specific variables if thevfull traceplot file becomes unmanageable due to large sample size"
   ]
  },
  {
   "cell_type": "code",
   "execution_count": 1,
   "id": "e182f92e",
   "metadata": {},
   "outputs": [],
   "source": [
    "import arviz\n",
    "import matplotlib\n",
    "import os\n",
    "\n",
    "workdir = '/Users/helmutsimon/Google Drive/Genetics/bayes_coalescent_est/data/'\n",
    "if not os.getcwd() == workdir:\n",
    "    os.chdir(workdir)"
   ]
  },
  {
   "cell_type": "markdown",
   "id": "9296c4e6",
   "metadata": {},
   "source": [
    "Load the trace file."
   ]
  },
  {
   "cell_type": "code",
   "execution_count": null,
   "id": "f3a5c4a3",
   "metadata": {},
   "outputs": [],
   "source": [
    "fname = 'aaaaaa.nc'\n",
    "trace = arviz.from_netcdf(fname)"
   ]
  },
  {
   "cell_type": "markdown",
   "id": "6479fbb6",
   "metadata": {},
   "source": [
    "Modify var_names and max_subplots parameters as required"
   ]
  },
  {
   "cell_type": "code",
   "execution_count": null,
   "id": "80add900",
   "metadata": {},
   "outputs": [],
   "source": [
    "var_names = ['mut_rate']\n",
    "\n",
    "matplotlib.logging.getLogger('matplotlib').setLevel('ERROR')\n",
    "matplotlib.logging.getLogger('matplotlib.font_manager').disabled = True\n",
    "arviz.rcParams['plot.max_subplots'] = 200\n",
    "tp = arviz.plot_trace(trace, compact=False, var_names = ['mvn_sample'])\n",
    "fig = matplotlib.pyplot.gcf()\n",
    "fig.tight_layout(pad=1.5)"
   ]
  },
  {
   "cell_type": "code",
   "execution_count": null,
   "id": "c6daa971",
   "metadata": {},
   "outputs": [],
   "source": []
  }
 ],
 "metadata": {
  "kernelspec": {
   "display_name": "pymc3.11.5",
   "language": "python",
   "name": "pymc3.11.5"
  },
  "language_info": {
   "codemirror_mode": {
    "name": "ipython",
    "version": 3
   },
   "file_extension": ".py",
   "mimetype": "text/x-python",
   "name": "python",
   "nbconvert_exporter": "python",
   "pygments_lexer": "ipython3",
   "version": "3.9.16"
  }
 },
 "nbformat": 4,
 "nbformat_minor": 5
}
