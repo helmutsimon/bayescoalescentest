{
 "cells": [
  {
   "cell_type": "markdown",
   "metadata": {},
   "source": [
    "## Pre-process_Nuu_Chah_Nulth_data"
   ]
  },
  {
   "cell_type": "code",
   "execution_count": 1,
   "metadata": {},
   "outputs": [],
   "source": [
    "import os, gzip, pickle\n",
    "import numpy as np\n",
    "import pandas as pd\n",
    "from collections import Counter\n",
    "from selectiontest import selectiontest\n",
    "\n",
    "\n",
    "path = \"/Users/helmutsimon/Google Drive/Genetics/bayes_coalescent_est/data\"\n",
    "if not os.getcwd() == path:\n",
    "    os.chdir(path)\n",
    "    \n",
    "pd.options.mode.chained_assignment = None\n",
    "\n",
    "def calculate_sfs(n, sample_table, ancestral, counts):\n",
    "    cum = np.cumsum(counts)\n",
    "    num_sequences = counts.sum()\n",
    "    indices = [np.argmax(cum>i) for i in range(num_sequences)]\n",
    "    sample = sample_table.iloc[indices]\n",
    "    occurrences = list()\n",
    "    for column in sample:\n",
    "        occurrences.append(sum(sample[column] != ancestral[column]))\n",
    "    sfs_ = Counter(occurrences)\n",
    "    sfs_ = [sfs_[i] for i in range(1, n)]\n",
    "    return sfs_"
   ]
  },
  {
   "cell_type": "markdown",
   "metadata": {},
   "source": [
    "Read csv file and extract data into tables"
   ]
  },
  {
   "cell_type": "code",
   "execution_count": 2,
   "metadata": {
    "scrolled": true
   },
   "outputs": [
    {
     "name": "stdout",
     "output_type": "stream",
     "text": [
      "  0  1  2  3  4  5  6  7  8  9  10 11 12 13 14 15 16 17\n",
      "0  A  G  G  A  A  T  C  C  T  C  T  T  C  T  C  T  T  C\n",
      "1  A  G  G  A  A  T  C  C  T  T  T  T  C  T  C  T  T  C\n",
      "2  G  A  G  G  A  C  C  C  T  C  T  T  C  C  C  T  T  T\n",
      "3  G  G  A  G  A  C  C  C  C  C  T  T  C  C  C  T  T  C\n",
      "4  G  G  G  A  A  T  C  C  T  C  T  T  C  T  C  T  T  C\n"
     ]
    }
   ],
   "source": [
    "table = pd.read_csv(\"NuuChahNulthData_full.csv\", header=None)\n",
    "sample_table = table.iloc[2:]\n",
    "counts = sample_table.iloc[:,-1]\n",
    "counts = counts.reset_index(drop=True)      #counts is number of copies of context in sample\n",
    "counts = counts.astype('int')\n",
    "sample_table.drop(sample_table.columns[[-1,]], axis=1, inplace=True)\n",
    "sample_table = sample_table.reset_index(drop=True)\n",
    "#print(sample_table)                    \n",
    "ancestral = table.iloc[0]           \n",
    "#print(ancestral)\n",
    "print(sample_table.head())"
   ]
  },
  {
   "cell_type": "markdown",
   "metadata": {},
   "source": [
    "Take SFS of a random sample. Use Wright Fisher prior information based on values for effective popu;ation size and mutation rate in Griffith and Tavare. Put in form for run_bayesian_model.py"
   ]
  },
  {
   "cell_type": "code",
   "execution_count": 4,
   "metadata": {},
   "outputs": [
    {
     "name": "stdout",
     "output_type": "stream",
     "text": [
      "[5, 3, 3, 2, 0, 0, 0, 0, 0, 0, 0, 1, 0, 0, 0, 0, 0, 0, 1, 0, 0, 0, 0, 3, 0, 0, 0, 0, 0, 0, 0, 0, 0, 0, 0, 0, 0, 0, 0, 0, 0, 0, 0, 0, 0, 0, 0, 0, 0, 0, 0, 0, 0, 0]\n",
      "Number of segregating sites  18\n",
      "Expected Wright-Fisher TMRCA 1178.1818181818182\n",
      "Expected Wright-Fisher ttl   5490.516472493125\n",
      "Tajima's D                   -0.5020156500630947\n",
      "Thomson estimate TMRCA       595.4545454545455\n"
     ]
    }
   ],
   "source": [
    "n = 55\n",
    "sfs = calculate_sfs(n, sample_table, ancestral, counts)\n",
    "print(sfs)\n",
    "results_list = [sfs, None, None, None, None] \n",
    "with gzip.open('sample_params_ncn55_00', 'wb') as outfile:\n",
    "    pickle.dump(results_list, outfile)\n",
    "print('Number of segregating sites ', np.sum(sfs))\n",
    "N = 600\n",
    "print('Expected Wright-Fisher TMRCA', 2 * N * (1 - (1/n)))\n",
    "print('Expected Wright-Fisher ttl  ', np.sum(2 * N / np.arange(1, n)))\n",
    "print(\"Tajima's D                  \", selectiontest.calculate_D(sfs))\n",
    "seq_mut_rate = 4e-3   # Griffiths  andTavare\n",
    "n_seq = np.arange(1, n)\n",
    "thom = np.sum(sfs * n_seq) / (n * seq_mut_rate)\n",
    "print(\"Thomson estimate TMRCA      \", thom)"
   ]
  },
  {
   "cell_type": "code",
   "execution_count": null,
   "metadata": {},
   "outputs": [],
   "source": []
  }
 ],
 "metadata": {
  "kernelspec": {
   "display_name": "Python 3",
   "language": "python",
   "name": "python3"
  },
  "language_info": {
   "codemirror_mode": {
    "name": "ipython",
    "version": 3
   },
   "file_extension": ".py",
   "mimetype": "text/x-python",
   "name": "python",
   "nbconvert_exporter": "python",
   "pygments_lexer": "ipython3",
   "version": "3.7.3"
  }
 },
 "nbformat": 4,
 "nbformat_minor": 2
}
