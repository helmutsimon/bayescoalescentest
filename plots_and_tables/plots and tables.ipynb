{
 "cells": [
  {
   "cell_type": "markdown",
   "metadata": {},
   "source": [
    "## Plots and tables"
   ]
  },
  {
   "cell_type": "code",
   "execution_count": 1,
   "metadata": {},
   "outputs": [],
   "source": [
    "import numpy as np\n",
    "import pandas as pd\n",
    "import os\n",
    "from time import time\n",
    "import gzip, pickle\n",
    "import datetime\n",
    "from scipy.ndimage.filters import gaussian_filter\n",
    "from cogent3 import make_table\n",
    "import matplotlib.pyplot as plt\n",
    "from matplotlib.backends.backend_pdf import PdfPages\n",
    "import seaborn as sns\n",
    "\n",
    "np.set_printoptions(precision=2)\n",
    "projdir = \"/Users/helmutsimon/repos/bayescoalescentest/shared\"\n",
    "if not os.getcwd() == projdir:\n",
    "    os.chdir(projdir)\n",
    "from MCMC_functions import multiply_variates, ancestral_process, print_pds"
   ]
  },
  {
   "cell_type": "code",
   "execution_count": 18,
   "metadata": {},
   "outputs": [
    {
     "name": "stdout",
     "output_type": "stream",
     "text": [
      "[17, 0, 0, 11]\n",
      "(4, 1000000)\n",
      "128427.21006286747\n"
     ]
    }
   ],
   "source": [
    "path = \"/Users/helmutsimon/Google Drive/Genetics/bayes_coalescent_est/data\"\n",
    "if not os.getcwd() == path:\n",
    "    os.chdir(path)\n",
    "\n",
    "job_no = 'sp022'\n",
    "file_path = 'tree_simulations_' + job_no\n",
    "\n",
    "with gzip.open(file_path, 'rb') as results:\n",
    "    results = pickle.load(results)\n",
    "sfs, true_branch_lengths = results[:2]\n",
    "print(sfs)    \n",
    "    \n",
    "#job_no = 'rbm_sp020'\n",
    "\n",
    "fname = 'branch_vars_' + job_no + '.pklz'\n",
    "with gzip.open(fname, 'rb') as brvars:\n",
    "    brvars = pickle.load(brvars)\n",
    "\n",
    "print(brvars.shape)\n",
    "n = brvars.shape[0] + 1\n",
    "branches_rev = np.flipud(brvars)\n",
    "coal_times = np.cumsum(branches_rev, axis=0)\n",
    "true_coal_times =  np.cumsum(true_branch_lengths[::-1])\n",
    "#true_coal_times = None\n",
    "\n",
    "ttl = np.sum(np.arange(2, n + 1) * true_branch_lengths)\n",
    "print(ttl)\n",
    "properties = dict()\n",
    "properties['Author'] = 'Helmut Simon'"
   ]
  },
  {
   "cell_type": "markdown",
   "metadata": {},
   "source": [
    "Plot branch lengths"
   ]
  },
  {
   "cell_type": "code",
   "execution_count": null,
   "metadata": {},
   "outputs": [],
   "source": [
    "pdfname = 'brfig' + job_no + 'a.pdf'\n",
    "properties['Title'] = 'Posterior distribution of branch lengths'\n",
    "properties['Subject'] = 'Datafile: ' + fname\n",
    "labels = np.arange(2, n + 1)\n",
    "fig = print_pds(pdfname, brvars, labels, truevalues=true_branch_lengths, properties=properties, \\\n",
    "                         savepdf=True, xlim=500)\n",
    "plt.show()\n",
    "print(true_branch_lengths)\n",
    "print(np.mean(brvars, axis=1))\n",
    "print(np.std(brvars, axis=1))"
   ]
  },
  {
   "cell_type": "markdown",
   "metadata": {},
   "source": [
    "Plot coalescence times as line plots"
   ]
  },
  {
   "cell_type": "code",
   "execution_count": null,
   "metadata": {},
   "outputs": [],
   "source": [
    "length = 1e3\n",
    "mrate = 2e-7\n",
    "seq_mutation_rate = length * mrate\n",
    "n_seq = np.arange(1, n)\n",
    "thom = np.sum(sfs * n_seq) / (n * seq_mutation_rate)\n",
    "var_thom = np.sum(sfs * n_seq * n_seq) / (2 * n * seq_mutation_rate) ** 2\n",
    "\n",
    "pdfname = 'coalfig' + job_no + '.pdf'\n",
    "properties['Title'] = 'Posterior distribution of coalescence times.'\n",
    "properties['Subject'] = 'Datafile: ' + fname\n",
    "labels = np.arange(1, n)\n",
    "fig = print_pds(pdfname, coal_times, labels, truevalues=true_coal_times, properties=properties,\\\n",
    "                         savepdf=True, thom=thom , xlim=1e5, ylim=2.5e-4)\n",
    "plt.show()\n",
    "print(thom)\n",
    "print(np.sqrt(var_thom))\n",
    "print(true_coal_times)\n",
    "print(np.mean(coal_times, axis=1))"
   ]
  },
  {
   "cell_type": "markdown",
   "metadata": {},
   "source": [
    "Plot coalescence times as heatmap"
   ]
  },
  {
   "cell_type": "code",
   "execution_count": null,
   "metadata": {},
   "outputs": [],
   "source": [
    "job_no = 'ncn55_00f01'\n",
    "fname = '/Users/helmutsimon/Google Drive/Genetics/bayes_coalescent_est/data/branch_vars_' + job_no + '.pklz'\n",
    "with gzip.open(fname, 'rb') as branch_vars:\n",
    "    brvars = pickle.load(branch_vars)\n",
    "\n",
    "n = brvars.shape[0] + 1\n",
    "\n",
    "tmrca_est = np.sum(np.mean(brvars, axis=1))\n",
    "print('Est. TMRCA  = '.ljust(35), tmrca_est)\n",
    "\n",
    "ntimes = 1000\n",
    "tlim = 1.2e5\n",
    "xstep = 20\n",
    "branches_rev = np.flipud(brvars)\n",
    "coal_times = np.cumsum(branches_rev, axis=0)\n",
    "print(np.mean(brvars,axis =1))\n",
    "print(np.mean(coal_times,axis =1))\n",
    "draws = coal_times.shape[1]  \n",
    "\n",
    "heatmap_table = list()\n",
    "for row in coal_times:\n",
    "    hist_row , bin_edges= np.histogram(row, bins=ntimes, range=(0, tlim), density=True)\n",
    "    hist_row = hist_row / np.max(hist_row)  #equalize the range\n",
    "    heatmap_table.append(hist_row)\n",
    "heat_table = pd.DataFrame(heatmap_table)\n",
    "print(heat_table.index)\n",
    "newindex = heat_table.index[::-1]\n",
    "heat_table = heat_table.reindex(index=newindex)\n",
    "print(heat_table.index)\n",
    "heat_table = gaussian_filter(heat_table, sigma=2)\n",
    "path = '/Users/helmutsimon/Google Drive/Genetics/bayes_coalescent_est/data/'\n",
    "pdfname = path + 'coal_heatmap_' + job_no + '.pdf'\n",
    "properties = dict()\n",
    "properties['Author'] = 'Helmut Simon'\n",
    "properties['Title'] = 'Coalescence times heatmap.'\n",
    "properties['Subject'] = 'Datafile: ' + fname\n",
    "with PdfPages(pdfname) as pdf:\n",
    "    fig = plt.figure(figsize=(15, 6))\n",
    "    sns.heatmap(heat_table, vmin=0, vmax=1.1, cmap=\"cubehelix\",\\\n",
    "                cbar_kws={'label': 'Adjusted probability density'}, linewidth=0)\n",
    "    plt.xticks(np.arange(0, ntimes, xstep), np.arange(0, tlim, tlim * xstep / ntimes, dtype='int'), fontsize=12)\n",
    "    plt.xlim([0, ntimes])\n",
    "    plt.xlabel('Generations before present', fontsize=12, labelpad=12)\n",
    "    plt.yticks(np.arange(n-2, -1, -2), np.arange(2, n+1, 2, dtype='int'))\n",
    "    plt.ylabel('Order of coalescent event from present', fontsize=12)\n",
    "    ymax = plt.gca().get_ylim()\n",
    "    shrink = ntimes / tlim\n",
    "    plt.vlines(tmrca_est * shrink, 0, n + 1, colors='r', linewidth=0.5)\n",
    "    d = pdf.infodict()\n",
    "    for key in properties:\n",
    "        d[key] = properties[key]\n",
    "    pdf.savefig(fig, bbox_inches='tight')\n",
    "plt.show()"
   ]
  },
  {
   "cell_type": "markdown",
   "metadata": {},
   "source": [
    "Plot ancestral process"
   ]
  },
  {
   "cell_type": "code",
   "execution_count": 20,
   "metadata": {},
   "outputs": [
    {
     "data": {
      "image/png": "[encoded data removed]",
      "text/plain": [
       "<Figure size 1080x432 with 1 Axes>"
      ]
     },
     "metadata": {},
     "output_type": "display_data"
    }
   ],
   "source": [
    "ntimes = 200\n",
    "tlim = 1.5e5\n",
    "x_values = np.linspace(0, tlim, num=ntimes)\n",
    "\n",
    "a_proc = ancestral_process(brvars, ntimes, tlim)\n",
    "sns.set_style(\"whitegrid\")\n",
    "cols = sns.husl_palette(n_colors=n - 1, s=0.9, l=0.6)\n",
    "labels = np.arange(n, 1, -1)\n",
    "pdfname = 'anc_fig_' + job_no + '.pdf'\n",
    "properties['Title'] = 'Ancestral process.'\n",
    "with PdfPages(pdfname) as pdf:\n",
    "    fig = plt.figure(figsize=(15, 6))\n",
    "    for row, col, label in zip(a_proc, cols, labels):\n",
    "        sns.lineplot(x=x_values, y=row, color=col, label=label)\n",
    "    plt.xlabel('Generations', fontsize=14)\n",
    "    plt.ylabel('Probability', fontsize=14, labelpad=25)\n",
    "    plt.xticks(fontsize=14)\n",
    "    plt.yticks(fontsize=14)\n",
    "    plt.ticklabel_format(axis='x', style='sci', scilimits=(0,0))\n",
    "    plt.ticklabel_format(axis='y', style='sci', scilimits=(0,0))\n",
    "    plt.xlim([0, 1e5]) \n",
    "    plt.legend(title='Number of ancestors', title_fontsize=14, fontsize=14)\n",
    "    plt.vlines(true_coal_times, 0, 1, colors=cols, linestyles='dashed')\n",
    "    d = pdf.infodict()\n",
    "    for key in properties:\n",
    "        d[key] = properties[key]\n",
    "    pdf.savefig(fig, bbox_inches='tight')\n",
    "plt.show()"
   ]
  },
  {
   "cell_type": "markdown",
   "metadata": {},
   "source": [
    "Plot posterior distribution of TMRCA"
   ]
  },
  {
   "cell_type": "code",
   "execution_count": null,
   "metadata": {},
   "outputs": [],
   "source": [
    "pdfname = 'tmrca_8_25_v_8_26.pdf'\n",
    "properties['Title'] = 'Comparison of TMRCA posterior distributions'\n",
    "properties['keywords'] = 'jobs 8_10 & 8_11'\n",
    "palette = sns.color_palette(\"colorblind\", 2)\n",
    "col0 = palette[0]\n",
    "col1 = palette[1]\n",
    "with PdfPages(pdfname) as pdf:\n",
    "    fig = plt.figure(figsize=(10, 6))\n",
    "    job_no = 'ncn8_25'\n",
    "    #job_no = 'sp35'\n",
    "    fname = 'branch_vars_' + job_no + '.pklz'\n",
    "    with gzip.open(fname, 'rb') as brvars:\n",
    "        brvars = pickle.load(brvars)\n",
    "    tmrca_vars = np.sum(brvars, axis=0)\n",
    "    sns.kdeplot(tmrca_vars, color=col0, label='Fixed mutation rate')\n",
    "\n",
    "    print(\"%.1f\" % np.mean(tmrca_vars))\n",
    "    print(\"%.1f\" % np.quantile(tmrca_vars, 0.025))\n",
    "    print(\"%.1f\" % np.quantile(tmrca_vars, 0.975))\n",
    "    print(\"%.1f\" % np.std(tmrca_vars))\n",
    "    ymax = plt.gca().get_ylim()[1]\n",
    "    print(ymax)\n",
    "    plt.vlines(np.quantile(tmrca_vars, 0.025), 0, ymax, colors=col0, linestyle='dotted')\n",
    "    plt.vlines(np.quantile(tmrca_vars, 0.975), 0, ymax, colors=col0, linestyle='dotted')\n",
    "    \n",
    "    job_no = 'ncn8_26'\n",
    "    fname = 'branch_vars_' + job_no + '.pklz'\n",
    "    with gzip.open(fname, 'rb') as brvars:\n",
    "        brvars = pickle.load(brvars)\n",
    "    tmrca_vars = np.sum(brvars, axis=0)\n",
    "    sns.kdeplot(tmrca_vars, color=col1, label='Uncertain mutation rate')\n",
    "\n",
    "    print(\"%.1f\" % np.mean(tmrca_vars))\n",
    "    print(\"%.1f\" % np.quantile(tmrca_vars, 0.025))\n",
    "    print(\"%.1f\" % np.quantile(tmrca_vars, 0.975))\n",
    "    print(\"%.1f\" % np.std(tmrca_vars))\n",
    "\n",
    "    plt.vlines(np.quantile(tmrca_vars, 0.025), 0, ymax, colors=col1, linestyle='dotted')\n",
    "    plt.vlines(np.quantile(tmrca_vars, 0.975), 0, ymax, colors=col1, linestyle='dotted')\n",
    "\n",
    "    plt.vlines(thom, 0, ymax, colors='k', linestyle='dotted', label='Thomson estimate of TMRCA')\n",
    "\n",
    "    plt.xlim([0, 2000])\n",
    "    plt.ylim([0, ymax])\n",
    "    plt.xlabel('Generations')\n",
    "    plt.ylabel('Probability')\n",
    "    plt.yticks([])\n",
    "    plt.legend()\n",
    "    plt.show()\n",
    "    print(\"%.1f\" % np.mean(tmrca_vars))\n",
    "    print(\"%.1f\" % np.quantile(tmrca_vars, 0.025))\n",
    "    print(\"%.1f\" % np.quantile(tmrca_vars, 0.975))\n",
    "    print(\"%.1f\" % np.std(tmrca_vars))\n",
    "    \n",
    "    d = pdf.infodict()\n",
    "    for key in properties:\n",
    "        d[key] = properties[key]\n",
    "    pdf.savefig(fig, bbox_inches='tight')\n",
    "plt.show()"
   ]
  },
  {
   "cell_type": "code",
   "execution_count": null,
   "metadata": {},
   "outputs": [],
   "source": [
    "a_proc_df = pd.DataFrame(a_proc)\n",
    "a_proc_df.to_csv('anc_proc_' + job_no + '.csv')"
   ]
  },
  {
   "cell_type": "markdown",
   "metadata": {},
   "source": [
    "Create heatmap of ancestral process."
   ]
  },
  {
   "cell_type": "code",
   "execution_count": null,
   "metadata": {},
   "outputs": [],
   "source": [
    "path = \"/Users/helmutsimon/Google Drive/Genetics/bayes_coalescent_est/data\"\n",
    "if not os.getcwd() == path:\n",
    "    os.chdir(path)\n",
    "\n",
    "!scp helmut@fisher.rsb.anu.edu.au:./helmutsimonpython/helmutsimonpython/bayes_sfs/data/sample_tree_matrices.py_stmf050.log .\n",
    "!scp helmut@fisher.rsb.anu.edu.au:./helmutsimonpython/helmutsimonpython/bayes_sfs/data/mxs_stmf050 ."
   ]
  },
  {
   "cell_type": "code",
   "execution_count": null,
   "metadata": {},
   "outputs": [],
   "source": [
    "job_no = 'sp20_03'\n",
    "fname = '/Users/helmutsimon/Google Drive/Genetics/bayes_coalescent_est/data/branch_vars_' + job_no + '.pklz'\n",
    "with gzip.open(fname, 'rb') as branch_vars:\n",
    "    brvars = pickle.load(branch_vars)\n",
    "\n",
    "n = brvars.shape[0] + 1\n",
    "\n",
    "print('Est. branch lengths    = '.ljust(35), np.mean(brvars, axis=1))\n",
    "tmrca_est = np.sum(np.mean(brvars, axis=1))\n",
    "print('Est. TMRCA  = '.ljust(35), tmrca_est)\n",
    "\n",
    "ntimes = 200\n",
    "tlim = 1200\n",
    "step = tlim / ntimes\n",
    "x_values = np.linspace(0, tlim, num=ntimes)\n",
    "\n",
    "a_proc = ancestral_process(brvars, ntimes, tlim)\n",
    "heat_table = pd.DataFrame(a_proc, index=np.arange(n, 0, -1))\n",
    "path = '/Users/helmutsimon/Google Drive/Genetics/bayes_coalescent_est/data/'\n",
    "pdfname = path + 'anc_heatmap_' + job_no + '.pdf'\n",
    "properties = dict()\n",
    "properties['Author'] = 'Helmut Simon'\n",
    "properties['Title'] = 'Ancestral process heatmap.'\n",
    "properties['Subject'] = 'Datafile: ' + fname\n",
    "with PdfPages(pdfname) as pdf:\n",
    "    fig = plt.figure(figsize=(15, 6))\n",
    "    sns.heatmap(heat_table, vmin=0, vmax=0.5, cmap=\"cubehelix\", cbar_kws={'label': 'Probability'}, linewidth=0)\n",
    "    plt.xticks(np.arange(0, ntimes, 8), np.arange(0, tlim, tlim * 8 / ntimes))\n",
    "    plt.xlim([0, ntimes])\n",
    "    plt.xlabel('Generations before present')\n",
    "    plt.ylabel('$k$ (number of extant ancestors)')\n",
    "    ymax = plt.gca().get_ylim()\n",
    "    shrink = ntimes / tlim\n",
    "    plt.vlines(tmrca_est * shrink, 0, n + 1, colors='r', linewidth=0.5)\n",
    "    d = pdf.infodict()\n",
    "    for key in properties:\n",
    "        d[key] = properties[key]\n",
    "    pdf.savefig(fig, bbox_inches='tight')\n",
    "plt.show()"
   ]
  },
  {
   "cell_type": "markdown",
   "metadata": {},
   "source": [
    "Table of posterior mean estimates from Nuu-Chah-Nulth data"
   ]
  },
  {
   "cell_type": "code",
   "execution_count": null,
   "metadata": {},
   "outputs": [],
   "source": [
    "from cogent3 import make_table\n",
    "\n",
    "brlens = np.array([[209.23, 110.91, 103.5,   66.37,  55.11,  52.83,  45.32, 0],\\\n",
    "                   [238.87, 147.33, 140.1,   88.87,  71.36,  67.34,  57.58, 0]])\n",
    "           \n",
    "brlens[0, -1] = np.sum(brlens[0,:-1])\n",
    "brlens[1, -1] = np.sum(brlens[1,:-1])\n",
    "#brlens[2, -1] = np.sum(brlens[2,:-1])\n",
    "\n",
    "columns = ['k=' + str(i) for i in np.arange(2, 9)] + ['TMRCA']\n",
    "#index = ['Fixed mutation rate', 'Uncertainty in mutation rate', 'Wright-Fisher']\n",
    "index = ['Fixed mutation rate', 'Uncertainty in mutation rate']\n",
    "brlens = pd.DataFrame(brlens, columns=columns)\n",
    "brlens.insert(loc=0, column='', value=index)\n",
    "print(brlens)\n",
    "t = make_table(data_frame=brlens, \\\n",
    "               title=\"Posterior mean estimates of branch lengths and the TMRCA for the sub-sample of 8 \\\n",
    "mitochondrial sequences from the Nuu-Chah-Nulth population. Estimates with and without \\\n",
    "taking account of uncertainty in the estimate of mutation rate are shown.\")\n",
    "for c in columns:\n",
    "    t.format_column(c, \"%.1f\")\n",
    "t.write(\"ncn_brl.tex\", label=\"tab:ncn_brl\", justify=\"lccccccccc\")\n",
    "t"
   ]
  },
  {
   "cell_type": "markdown",
   "metadata": {},
   "source": [
    "Table comparing results using Dirichlet and MVN prior distributions."
   ]
  },
  {
   "cell_type": "code",
   "execution_count": null,
   "metadata": {},
   "outputs": [],
   "source": [
    "def get_tab_row(job_no):\n",
    "    fname = 'compare_priors_result_' + job_no + '.csv'\n",
    "    #fname = 'Table_compare_priors.csv'\n",
    "    results = pd.read_csv(fname, sep=',', index_col=0)\n",
    "    results.iloc[:,4:] = results.iloc[:,4:].apply(pd.to_numeric)\n",
    "    results['tmrca_Dir_mse'] = (results['tmrca_true'] - results['tmrca_Dir']) ** 2\n",
    "    results['tmrca_mvn_mse'] = (results['tmrca_true'] - results['tmrca_mvn']) ** 2\n",
    "    results['tmrca_thom_mse'] = (results['tmrca_true'] - results['thom']) ** 2\n",
    "    totals = results.mean(axis=0)\n",
    "    totals['tmrca_Dir_mse'] = np.sqrt(totals['tmrca_Dir_mse'])\n",
    "    totals['tmrca_mvn_mse'] = np.sqrt(totals['tmrca_mvn_mse'])\n",
    "    totals['tmrca_thom_mse'] = np.sqrt(totals['tmrca_thom_mse'])\n",
    "    #path = \"/Users/helmutsimon/Google Drive/Genetics/bayes_coalescent_est/data\"\n",
    "    return totals\n",
    "\n",
    "\n",
    "path = \"/Users/helmutsimon/Google Drive/Genetics/bayes_coalescent_est/data\"\n",
    "if not os.getcwd() == path:\n",
    "    os.chdir(path)\n",
    "    \n",
    "job_no = 'sm206'\n",
    "totals1 = get_tab_row(job_no)\n",
    "job_no = 'sm207'\n",
    "totals2 = get_tab_row(job_no)\n",
    "totals = pd.DataFrame([totals1, totals2])\n",
    "print(totals)\n",
    "totals.drop(labels=['tmrca_true','tmrca_Dir','tmrca_mvn','thom'], axis=1, inplace=True)\n",
    "print(totals)\n",
    "#header1 = ['$S_n$', 'branch lengths', 'branch lengths', 'TMRCA', 'TMRCA', 'TMRCA'] \n",
    "#header2 = ['', 'Dirichlet', 'MVN', 'Dirichlet', 'MVN', 'Thomson']\n",
    "#totals.columns = pd.MultiIndex.from_arrays([header1, header2])\n",
    "#print(totals)\n",
    "t = make_table(data_frame=totals, title=\"title blah\")\n",
    "#t = make_table(data_frame=totals)\n",
    "justify = \"r\" * (totals.shape[1] )\n",
    "for c in totals.columns:\n",
    "    t.format_column(c, \"%.1f\")\n",
    "#results[results.columns[5]] = results[results.columns[5]].apply(pd.to_numeric)\n",
    "fname = 'cptab_' + job_no + '.tex'\n",
    "label = 'tab:cp' \n",
    "t.write(fname, label=label, justify=justify)\n",
    "t"
   ]
  },
  {
   "cell_type": "markdown",
   "metadata": {},
   "source": [
    "Plot tree levels"
   ]
  },
  {
   "cell_type": "code",
   "execution_count": null,
   "metadata": {},
   "outputs": [],
   "source": [
    "fname = '/Users/helmutsimon/Google Drive/Genetics/bayes_coalescent_est/data/pm_trace_ncn55_00f01.csv'\n",
    "#trace = pd.read_csv(fname, index_col=0, sep=',', na_filter=False)\n",
    "level  = 0\n",
    "label = 'index_' + str(level)\n",
    "index = trace[label] \n",
    "counts = np.bincount(index)\n",
    "for i, c in enumerate(counts):\n",
    "    print(i + 1, \"%.3f\" % (c / 1.2e6))\n",
    "pdfname = '/Users/helmutsimon/Google Drive/Genetics/bayes_coalescent_est/data/tree_index_plot_' + str(level) + '.pdf'\n",
    "with PdfPages(pdfname) as pdf:\n",
    "    fig = plt.figure(figsize=(30, 10))\n",
    "    sns.barplot(x=np.arange(1, 55 - level), y=counts, color='b')\n",
    "    yticklabels = [\"%.2f\" % i for i in np.arange(0, 350000 / 1200000, 50000/1200000)]\n",
    "    plt.xticks(fontsize=20)\n",
    "    plt.xlabel('Partition size', fontsize=24, labelpad=20)\n",
    "    plt.yticks(np.arange(0, 350000, 50000), yticklabels, fontsize=20)\n",
    "    plt.ylabel('Probability', fontsize=24, labelpad=20)\n",
    "    #pdf.savefig(fig, bbox_inches='tight')\n",
    "plt.show()"
   ]
  },
  {
   "cell_type": "code",
   "execution_count": null,
   "metadata": {},
   "outputs": [],
   "source": [
    "labels\n"
   ]
  },
  {
   "cell_type": "code",
   "execution_count": null,
   "metadata": {},
   "outputs": [],
   "source": []
  }
 ],
 "metadata": {
  "kernelspec": {
   "display_name": "Python 3",
   "language": "python",
   "name": "python3"
  },
  "language_info": {
   "codemirror_mode": {
    "name": "ipython",
    "version": 3
   },
   "file_extension": ".py",
   "mimetype": "text/x-python",
   "name": "python",
   "nbconvert_exporter": "python",
   "pygments_lexer": "ipython3",
   "version": "3.7.3"
  }
 },
 "nbformat": 4,
 "nbformat_minor": 2
}
